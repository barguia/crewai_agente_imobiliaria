{
 "cells": [
  {
   "cell_type": "code",
   "execution_count": 4,
   "id": "547256cd",
   "metadata": {},
   "outputs": [],
   "source": [
    "import json\n",
    "import os\n",
    "from datetime import datetime, timedelta\n",
    "from crewai import Agent, Task, Crew, Process\n",
    "from crewai_tools import CSVSearchTool\n",
    "from dotenv import load_dotenv, find_dotenv\n",
    "from langchain.tools import Tool\n",
    "from langchain_community.tools import DuckDuckGoSearchResults\n",
    "from langchain_openai import ChatOpenAI\n",
    "from crewai.tools import BaseTool\n",
    "\n",
    "load_dotenv(find_dotenv())\n",
    "llm = ChatOpenAI(model=\"gpt-3.5-turbo-0125\")"
   ]
  },
  {
   "cell_type": "code",
   "execution_count": 5,
   "id": "b354bb72",
   "metadata": {},
   "outputs": [
    {
     "name": "stderr",
     "output_type": "stream",
     "text": [
      "c:\\Users\\edubarb\\Documents\\projetos\\estudo-ia\\agent-imobiliaria\\.venv\\Lib\\site-packages\\alembic\\config.py:577: DeprecationWarning: No path_separator found in configuration; falling back to legacy splitting on spaces, commas, and colons for prepend_sys_path.  Consider adding path_separator=os to Alembic config.\n",
      "  util.warn_deprecated(\n",
      "Inserting batches in chromadb:   0%|          | 0/1 [00:00<?, ?it/s]2025-07-03 07:38:12,541 - 18616 - _common.py-_common:105 - INFO: Backing off send_request(...) for 0.4s (requests.exceptions.SSLError: HTTPSConnectionPool(host='us.i.posthog.com', port=443): Max retries exceeded with url: /batch/ (Caused by SSLError(SSLCertVerificationError(1, '[SSL: CERTIFICATE_VERIFY_FAILED] certificate verify failed: self signed certificate in certificate chain (_ssl.c:992)'))))\n",
      "2025-07-03 07:38:13,074 - 18616 - _common.py-_common:105 - INFO: Backing off send_request(...) for 1.2s (requests.exceptions.SSLError: HTTPSConnectionPool(host='us.i.posthog.com', port=443): Max retries exceeded with url: /batch/ (Caused by SSLError(SSLCertVerificationError(1, '[SSL: CERTIFICATE_VERIFY_FAILED] certificate verify failed: self signed certificate in certificate chain (_ssl.c:992)'))))\n",
      "Inserting batches in chromadb:   0%|          | 0/1 [00:01<?, ?it/s]\n"
     ]
    }
   ],
   "source": [
    "csv_imoveis = CSVSearchTool(csv=\"files/imoveis.csv\")"
   ]
  },
  {
   "cell_type": "code",
   "execution_count": 6,
   "id": "32d05435",
   "metadata": {},
   "outputs": [],
   "source": [
    "corretor_imoveis = Agent(\n",
    "    role=\"Corretor de imóveis\",\n",
    "    goal=\"Obtenha as preferência do cliente e busque imóveis compatíveis no banco de dados\",\n",
    "    backstory=\"Especialista no mercado imobiliário, encontre as melhores opções baseadas no perfil do cliente\",\n",
    "    verbose=True,\n",
    "    max_iter=5,\n",
    "    tools=[csv_imoveis],\n",
    "    allow_delegation=False,\n",
    "    memory=True\n",
    ")"
   ]
  },
  {
   "cell_type": "code",
   "execution_count": 7,
   "id": "493c2398",
   "metadata": {},
   "outputs": [],
   "source": [
    "buscar_imoveis = Task(\n",
    "    description=\"Pesquisa imóveis na região desejada pelo cliente, considerando faixa de preço e tipo de imóvel\",\n",
    "    expected_output=\"Lista de json de imóveis disponíveis com detalhes sobre a localização preço e caracteristica\",\n",
    "    agent=corretor_imoveis\n",
    ")"
   ]
  },
  {
   "cell_type": "code",
   "execution_count": 8,
   "id": "ac0f69b9",
   "metadata": {},
   "outputs": [],
   "source": [
    "def obter_preco_imoveis(cidade: str = \"geral\"):\n",
    "    precos = {\n",
    "        \"São Paulo\": {\"tendencia\": \"aumento\", \"percentual\": 5.2},\n",
    "        \"Rio de Janeiro\": {\"tendencia\": \"estavel\", \"percentual\": 0.0},\n",
    "        \"Belo Horizonte\": {\"tendencia\": \"queda\", \"percentual\": -3.1},\n",
    "        \"geral\": {\"tendencia\": \"aumento\", \"percentual\": 4.0},\n",
    "    }\n",
    "\n",
    "    return precos.get(cidade, precos[\"geral\"])\n",
    "\n",
    "\n",
    "class TendenciaPrecosImoveis(BaseTool):\n",
    "    name: str = \"Analisador de Preços Imobiliário\"\n",
    "    description: str = \"Obtém tendência de preço de imóveis com base na cidade especificada.\"\n",
    "\n",
    "    def _run(self, cidade: str) -> dict:\n",
    "        \"\"\"\n",
    "        Executa análise de preços imobiliários e retorna a tendência com base na cidade.\n",
    "        \"\"\"\n",
    "        try:\n",
    "            return obter_preco_imoveis(cidade)\n",
    "        except Exception as e:\n",
    "            return {\"Erro\": f\"Erro ao obter tendência de preços {str(e)}\"}"
   ]
  },
  {
   "cell_type": "code",
   "execution_count": 9,
   "id": "dd62d106",
   "metadata": {},
   "outputs": [],
   "source": [
    "analista_mercado = Agent(\n",
    "    role = \"Analista de Mercado Imobiliário\",\n",
    "    goal = \"Analisa tendência de preços e ajuda a prever a valorilização ou desvalorização dos imóveis na {cidade}\",\n",
    "    backstory = \"Experiente no setor, usa dados históricos para prever preços futuros\",\n",
    "    verbose = True,\n",
    "    max_iter = 5,\n",
    "    allow_delegation=False,\n",
    "    memory=True\n",
    ")"
   ]
  },
  {
   "cell_type": "code",
   "execution_count": 10,
   "id": "061a2f46",
   "metadata": {},
   "outputs": [],
   "source": [
    "obter_tendencia = Task(\n",
    "    description=\"\"\"\n",
    "    Analise o histórico de preços de imóveis na cidade {cidade} e forneça insights sobre valorização ou desvalorização.\n",
    "    Considere o tipo de imóvel {tipo_imovel} e a faixa de preço {faixa_preco}\n",
    "    \"\"\",\n",
    "    expected_output=\"Um resumo da tendência dos preços no mercado imobiliário\",\n",
    "    tools= [TendenciaPrecosImoveis()],\n",
    "    agent=analista_mercado,\n",
    "    parameters=[\"cidade\"]\n",
    ")"
   ]
  },
  {
   "cell_type": "code",
   "execution_count": 13,
   "id": "53fa124a",
   "metadata": {},
   "outputs": [],
   "source": [
    "analista_noticia = Agent(\n",
    "    role=\"Analista de Notícias Imobiliárias\",\n",
    "    goal=\"Busca notícias relevantes sobre o mercado imobiliário para avaliar fatores externos\",\n",
    "    backstory=\"Especialista em analisar notícias e tendências econômicas que afetam os preços dos imóveis.\",\n",
    "    verbose=True,\n",
    "    max_iter=5,\n",
    "    memory=True\n",
    ")"
   ]
  },
  {
   "cell_type": "code",
   "execution_count": 14,
   "id": "5f1d99f5",
   "metadata": {},
   "outputs": [],
   "source": [
    "searchTool = DuckDuckGoSearchResults(backend=\"news\", num_results=5)"
   ]
  },
  {
   "cell_type": "code",
   "execution_count": 15,
   "id": "910d39b0",
   "metadata": {},
   "outputs": [
    {
     "data": {
      "text/plain": [
       "DuckDuckGoSearchResults(max_results=5, api_wrapper=DuckDuckGoSearchAPIWrapper(region='wt-wt', safesearch='moderate', time='y', max_results=5, backend='auto', source='text'), backend='news')"
      ]
     },
     "execution_count": 15,
     "metadata": {},
     "output_type": "execute_result"
    }
   ],
   "source": [
    "searchTool"
   ]
  },
  {
   "cell_type": "code",
   "execution_count": 17,
   "id": "18ede63b",
   "metadata": {},
   "outputs": [],
   "source": [
    "buscar_noticias = Task(\n",
    "    description=f\"Pesquise notícias recentes sobre o mercado imobiliário. Data atual: {datetime.now()}\",\n",
    "    expected_output=\"Resumo das principais notícias e tendências imobiliárias\",\n",
    "    agent=analista_noticia,\n",
    "    tool=[searchTool]\n",
    ")"
   ]
  },
  {
   "cell_type": "code",
   "execution_count": 18,
   "id": "4d4ee305",
   "metadata": {},
   "outputs": [],
   "source": [
    "consultor_financeiro = Agent(\n",
    "    role=\"Consultor Financeiro\",\n",
    "    goal=\"Analisa opções de financiamento imobiliário com base no perfil do cliente.\",\n",
    "    backstory=\"Especialista em crédito imobiliário, ajuda cliente a escolherem as melhores opções de financiamento\",\n",
    "    verbose=True,\n",
    "    allow_delegation=False,\n",
    "    max_iter=5,\n",
    "    memory=True\n",
    ")"
   ]
  },
  {
   "cell_type": "code",
   "execution_count": 19,
   "id": "26e40289",
   "metadata": {},
   "outputs": [],
   "source": [
    "calcular_financiamento = Task(\n",
    "    description=\"Analise a reda do cliente e sugiraa opções de financiamentos viáveis\",\n",
    "    expected_output=\"Tabela comparativa com diferentes financiamentos, taxa de juros e prazos\",\n",
    "    agent=consultor_financeiro\n",
    ")"
   ]
  },
  {
   "cell_type": "code",
   "execution_count": 21,
   "id": "8a5ee2b9",
   "metadata": {},
   "outputs": [],
   "source": [
    "redator = Agent(\n",
    "    role=\"Redator de Relatórios Imobiliários\",\n",
    "    goal=\"Gere um relatório completo e persuasivo com base nas análises de mercado e imóveis encontrados\",\n",
    "    backstory=\"Especialista em comunicação, traduz dados complexos para clientes de forma clara e objetiva.\",\n",
    "    verbose=True,\n",
    "    allow_delegation=False,\n",
    "    max_iter=5,\n",
    "    memory=True\n",
    ")"
   ]
  },
  {
   "cell_type": "code",
   "execution_count": 22,
   "id": "27739338",
   "metadata": {},
   "outputs": [],
   "source": [
    "gera_relatorio = Task(\n",
    "    description=\"Gere um relatório detalhado sobre o melhor imóvel encontrado, considerando preços, tendências e financiamentos\",\n",
    "    expected_output=\"Relatório formatado com resumo do mercado, opções recomendadas e justificativa da escolha\",\n",
    "    agent=redator,\n",
    "    context=[buscar_imoveis, obter_tendencia, buscar_noticias, calcular_financiamento]\n",
    ")"
   ]
  },
  {
   "cell_type": "code",
   "execution_count": null,
   "id": "a2a21637",
   "metadata": {},
   "outputs": [],
   "source": [
    "crew = Crew(\n",
    "    agents=[corretor_imoveis, analista_mercado, analista_noticia, consultor_financeiro, redator],\n",
    "    tasks=[buscar_imoveis, obter_tendencia, buscar_noticias, calcular_financiamento, gera_relatorio],\n",
    "    verbose=True,\n",
    "    process=Process.hierarchical,\n",
    "    full_output=True,\n",
    "    share_crew=False,\n",
    "    max_iter=15,\n",
    "    manager_llm=llm\n",
    ")"
   ]
  },
  {
   "cell_type": "code",
   "execution_count": null,
   "id": "5e6fb103",
   "metadata": {},
   "outputs": [],
   "source": [
    "result = crew.kickoff(inputs={\n",
    "    \"cidade\": \"Rio de Janeiro\",\n",
    "    \"tipo_imovel\": \"Apartamento\",\n",
    "    \"faixa_preco\": \"500000-700000\"\n",
    "})"
   ]
  }
 ],
 "metadata": {
  "kernelspec": {
   "display_name": ".venv",
   "language": "python",
   "name": "python3"
  },
  "language_info": {
   "codemirror_mode": {
    "name": "ipython",
    "version": 3
   },
   "file_extension": ".py",
   "mimetype": "text/x-python",
   "name": "python",
   "nbconvert_exporter": "python",
   "pygments_lexer": "ipython3",
   "version": "3.11.1"
  }
 },
 "nbformat": 4,
 "nbformat_minor": 5
}
